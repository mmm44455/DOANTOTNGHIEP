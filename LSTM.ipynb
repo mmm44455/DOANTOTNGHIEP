{
 "cells": [
  {
   "cell_type": "code",
   "execution_count": 1,
   "id": "22f0cd58-c850-4c14-9a36-d0a4246de71d",
   "metadata": {},
   "outputs": [
    {
     "name": "stdout",
     "output_type": "stream",
     "text": [
      "WARNING:tensorflow:From C:\\Users\\57\\AppData\\Roaming\\Python\\Python39\\site-packages\\keras\\src\\losses.py:2976: The name tf.losses.sparse_softmax_cross_entropy is deprecated. Please use tf.compat.v1.losses.sparse_softmax_cross_entropy instead.\n",
      "\n"
     ]
    },
    {
     "name": "stderr",
     "output_type": "stream",
     "text": [
      "C:\\Users\\57\\AppData\\Roaming\\Python\\Python39\\site-packages\\tensorflow_addons\\utils\\tfa_eol_msg.py:23: UserWarning: \n",
      "\n",
      "TensorFlow Addons (TFA) has ended development and introduction of new features.\n",
      "TFA has entered a minimal maintenance and release mode until a planned end of life in May 2024.\n",
      "Please modify downstream libraries to take dependencies from other repositories in our TensorFlow community (e.g. Keras, Keras-CV, and Keras-NLP). \n",
      "\n",
      "For more information see: https://github.com/tensorflow/addons/issues/2807 \n",
      "\n",
      "  warnings.warn(\n",
      "C:\\Users\\57\\AppData\\Roaming\\Python\\Python39\\site-packages\\tensorflow_addons\\utils\\ensure_tf_install.py:53: UserWarning: Tensorflow Addons supports using Python ops for all Tensorflow versions above or equal to 2.12.0 and strictly below 2.15.0 (nightly versions are not supported). \n",
      " The versions of TensorFlow you are currently using is 2.15.0 and is not supported. \n",
      "Some things might work, some things might not.\n",
      "If you were to encounter a bug, do not file an issue.\n",
      "If you want to make sure you're using a tested and supported configuration, either change the TensorFlow version or the TensorFlow Addons's version. \n",
      "You can find the compatibility matrix in TensorFlow Addon's readme:\n",
      "https://github.com/tensorflow/addons\n",
      "  warnings.warn(\n",
      "c:\\Program Files (x86)\\Microsoft Visual Studio\\Shared\\Python39_64\\lib\\site-packages\\matplotlib\\projections\\__init__.py:63: UserWarning: Unable to import Axes3D. This may be due to multiple versions of Matplotlib being installed (e.g. as a system package and as a pip package). As a result, the 3D projection is not available.\n",
      "  warnings.warn(\"Unable to import Axes3D. This may be due to multiple versions of \"\n"
     ]
    }
   ],
   "source": [
    "import pandas as pd\n",
    "import numpy as np\n",
    "import tensorflow as tf\n",
    "from tensorflow.keras.models import Sequential\n",
    "from tensorflow.keras.layers import LSTM, Dense, Input, Dropout\n",
    "import tensorflow_addons as tfa  # thư viện cho Attention\n",
    "from sklearn.preprocessing import MinMaxScaler\n",
    "import matplotlib.pyplot as plt\n",
    "from keras.layers import LSTM, Dense, Input, Attention,concatenate\n",
    "from keras.models import Model\n",
    "from keras.optimizers import Adam\n",
    "from sklearn.model_selection import train_test_split\n",
    "from sklearn.metrics import r2_score, mean_absolute_error, mean_squared_error"
   ]
  },
  {
   "cell_type": "code",
   "execution_count": 2,
   "id": "98ff285f-92dc-4284-ad30-72c2d52f392f",
   "metadata": {},
   "outputs": [
    {
     "name": "stdout",
     "output_type": "stream",
     "text": [
      "            mucNuocHN  nuocVeHoaBinh  chayMayHoaBinh  nuocVeTuyenQuang  \\\n",
      "Ngay                                                                     \n",
      "01/01/2008        120        498.815         259.499               0.0   \n",
      "02/01/2008        117        470.866         518.755               0.0   \n",
      "03/01/2008        139        423.816         615.242               0.0   \n",
      "04/01/2008        166        496.882         902.982               0.0   \n",
      "05/01/2008        179        501.232        1072.970               0.0   \n",
      "\n",
      "            chayMayTuyenQuan  nuocVeThacBa  chayMayThacBa  \n",
      "Ngay                                                       \n",
      "01/01/2008               0.0        23.230         90.200  \n",
      "02/01/2008               0.0        26.239        213.791  \n",
      "03/01/2008               0.0        24.000        175.000  \n",
      "04/01/2008               0.0        11.000        164.000  \n",
      "05/01/2008               0.0        24.000        177.000  \n"
     ]
    }
   ],
   "source": [
    "\n",
    "data = pd.read_csv(r'C:\\Users\\57\\Desktop\\DOANTOTNGHIEP\\Data\\KichBan1_2\\train_data2.csv') \n",
    "data.set_index('Ngay', inplace=True)\n",
    "print(data.head(5))"
   ]
  },
  {
   "cell_type": "code",
   "execution_count": 3,
   "id": "bb0fa752-9eb4-488d-8036-e61e01979419",
   "metadata": {},
   "outputs": [],
   "source": [
    "# Chuẩn hóa dữ liệu để đưa về khoảng [0, 1] để dễ xử lý khi đưa vào mô hình\n",
    "scaler = MinMaxScaler(feature_range=(0, 1))\n",
    "data_scaled = scaler.fit_transform(data)"
   ]
  },
  {
   "cell_type": "code",
   "execution_count": 4,
   "id": "96df9d36-7c09-4a89-87aa-5e546d3f66d2",
   "metadata": {},
   "outputs": [],
   "source": [
    "def create_sequences(data, seq_length):\n",
    "    sequences = []\n",
    "    targets = []\n",
    "    for i in range(len(data) - seq_length):\n",
    "        sequences.append(data[i:i + seq_length])\n",
    "        targets.append(data[i + seq_length, 0])  \n",
    "    return np.array(sequences), np.array(targets)"
   ]
  },
  {
   "cell_type": "code",
   "execution_count": 5,
   "id": "01a9103a",
   "metadata": {},
   "outputs": [
    {
     "name": "stdout",
     "output_type": "stream",
     "text": [
      "7\n"
     ]
    }
   ],
   "source": [
    "sequence_length = 2 # Sử dụng số ngày trước để dự báo ngày tiếp theo\n",
    "X, y = create_sequences(data_scaled, sequence_length)\n",
    "print(X.shape[2])"
   ]
  },
  {
   "cell_type": "code",
   "execution_count": 6,
   "id": "a7a84dda",
   "metadata": {},
   "outputs": [],
   "source": [
    "# sequence_length = 1 # Sử dụng 30 ngày để dự đoán\n",
    "# X, y = [], []\n",
    "# for i in range(sequence_length, len(data_scaled)):\n",
    "#     X.append(data_scaled[i-sequence_length:i])\n",
    "#     y.append(data_scaled[i])\n",
    "\n",
    "# X, y = np.array(X), np.array(y)"
   ]
  },
  {
   "cell_type": "code",
   "execution_count": 7,
   "id": "43cad5bd",
   "metadata": {},
   "outputs": [
    {
     "name": "stdout",
     "output_type": "stream",
     "text": [
      "2\n"
     ]
    }
   ],
   "source": [
    "train_size = int(len(X) * 0.8)\n",
    "X_train, X_test = X[:train_size], X[train_size:]\n",
    "y_train, y_test = y[:train_size], y[train_size:]\n",
    "print(X_train.shape[1])"
   ]
  },
  {
   "cell_type": "code",
   "execution_count": 8,
   "id": "8b9aa117",
   "metadata": {},
   "outputs": [
    {
     "name": "stdout",
     "output_type": "stream",
     "text": [
      "WARNING:tensorflow:From C:\\Users\\57\\AppData\\Roaming\\Python\\Python39\\site-packages\\keras\\src\\layers\\rnn\\lstm.py:148: The name tf.executing_eagerly_outside_functions is deprecated. Please use tf.compat.v1.executing_eagerly_outside_functions instead.\n",
      "\n"
     ]
    }
   ],
   "source": [
    "model = Sequential([\n",
    "    LSTM(64, activation='relu', input_shape=(sequence_length, X.shape[2]), return_sequences=True),\n",
    "    Dropout(0.2),\n",
    "    LSTM(32, activation='relu', return_sequences=False),\n",
    "    Dropout(0.2),\n",
    "    Dense(1)  # Dự đoán mực nước (1 giá trị)\n",
    "])"
   ]
  },
  {
   "cell_type": "code",
   "execution_count": 9,
   "id": "02f1d57a",
   "metadata": {},
   "outputs": [
    {
     "name": "stdout",
     "output_type": "stream",
     "text": [
      "WARNING:tensorflow:From C:\\Users\\57\\AppData\\Roaming\\Python\\Python39\\site-packages\\keras\\src\\optimizers\\__init__.py:309: The name tf.train.Optimizer is deprecated. Please use tf.compat.v1.train.Optimizer instead.\n",
      "\n",
      "Model: \"sequential\"\n",
      "_________________________________________________________________\n",
      " Layer (type)                Output Shape              Param #   \n",
      "=================================================================\n",
      " lstm (LSTM)                 (None, 2, 64)             18432     \n",
      "                                                                 \n",
      " dropout (Dropout)           (None, 2, 64)             0         \n",
      "                                                                 \n",
      " lstm_1 (LSTM)               (None, 32)                12416     \n",
      "                                                                 \n",
      " dropout_1 (Dropout)         (None, 32)                0         \n",
      "                                                                 \n",
      " dense (Dense)               (None, 1)                 33        \n",
      "                                                                 \n",
      "=================================================================\n",
      "Total params: 30881 (120.63 KB)\n",
      "Trainable params: 30881 (120.63 KB)\n",
      "Non-trainable params: 0 (0.00 Byte)\n",
      "_________________________________________________________________\n"
     ]
    }
   ],
   "source": [
    "model.compile(optimizer='adam', loss='mse')\n",
    "model.summary()"
   ]
  },
  {
   "cell_type": "code",
   "execution_count": 10,
   "id": "3aec9480",
   "metadata": {},
   "outputs": [
    {
     "name": "stdout",
     "output_type": "stream",
     "text": [
      "Epoch 1/50\n",
      "WARNING:tensorflow:From C:\\Users\\57\\AppData\\Roaming\\Python\\Python39\\site-packages\\keras\\src\\utils\\tf_utils.py:492: The name tf.ragged.RaggedTensorValue is deprecated. Please use tf.compat.v1.ragged.RaggedTensorValue instead.\n",
      "\n",
      "64/64 [==============================] - 8s 20ms/step - loss: 0.0307 - val_loss: 0.0054\n",
      "Epoch 2/50\n",
      "64/64 [==============================] - 1s 8ms/step - loss: 0.0050 - val_loss: 0.0019\n",
      "Epoch 3/50\n",
      "64/64 [==============================] - 1s 8ms/step - loss: 0.0031 - val_loss: 0.0022\n",
      "Epoch 4/50\n",
      "64/64 [==============================] - 0s 8ms/step - loss: 0.0030 - val_loss: 0.0017\n",
      "Epoch 5/50\n",
      "64/64 [==============================] - 1s 8ms/step - loss: 0.0028 - val_loss: 0.0024\n",
      "Epoch 6/50\n",
      "64/64 [==============================] - 1s 9ms/step - loss: 0.0025 - val_loss: 0.0012\n",
      "Epoch 7/50\n",
      "64/64 [==============================] - 1s 8ms/step - loss: 0.0024 - val_loss: 0.0011\n",
      "Epoch 8/50\n",
      "64/64 [==============================] - 0s 7ms/step - loss: 0.0022 - val_loss: 0.0010\n",
      "Epoch 9/50\n",
      "64/64 [==============================] - 1s 9ms/step - loss: 0.0022 - val_loss: 0.0013\n",
      "Epoch 10/50\n",
      "64/64 [==============================] - 1s 8ms/step - loss: 0.0019 - val_loss: 0.0010\n",
      "Epoch 11/50\n",
      "64/64 [==============================] - 1s 8ms/step - loss: 0.0021 - val_loss: 0.0011\n",
      "Epoch 12/50\n",
      "64/64 [==============================] - 0s 7ms/step - loss: 0.0020 - val_loss: 0.0015\n",
      "Epoch 13/50\n",
      "64/64 [==============================] - 1s 9ms/step - loss: 0.0019 - val_loss: 0.0015\n",
      "Epoch 14/50\n",
      "64/64 [==============================] - 1s 9ms/step - loss: 0.0020 - val_loss: 8.9707e-04\n",
      "Epoch 15/50\n",
      "64/64 [==============================] - 1s 8ms/step - loss: 0.0018 - val_loss: 9.1193e-04\n",
      "Epoch 16/50\n",
      "64/64 [==============================] - 1s 8ms/step - loss: 0.0019 - val_loss: 0.0015\n",
      "Epoch 17/50\n",
      "64/64 [==============================] - 1s 9ms/step - loss: 0.0017 - val_loss: 0.0012\n",
      "Epoch 18/50\n",
      "64/64 [==============================] - 1s 8ms/step - loss: 0.0018 - val_loss: 0.0013\n",
      "Epoch 19/50\n",
      "64/64 [==============================] - 0s 7ms/step - loss: 0.0021 - val_loss: 0.0020\n",
      "Epoch 20/50\n",
      "64/64 [==============================] - 1s 8ms/step - loss: 0.0017 - val_loss: 8.5654e-04\n",
      "Epoch 21/50\n",
      "64/64 [==============================] - 0s 6ms/step - loss: 0.0018 - val_loss: 0.0011\n",
      "Epoch 22/50\n",
      "64/64 [==============================] - 1s 8ms/step - loss: 0.0016 - val_loss: 0.0016\n",
      "Epoch 23/50\n",
      "64/64 [==============================] - 0s 7ms/step - loss: 0.0016 - val_loss: 8.8884e-04\n",
      "Epoch 24/50\n",
      "64/64 [==============================] - 0s 8ms/step - loss: 0.0018 - val_loss: 0.0013\n",
      "Epoch 25/50\n",
      "64/64 [==============================] - 0s 7ms/step - loss: 0.0017 - val_loss: 7.8114e-04\n",
      "Epoch 26/50\n",
      "64/64 [==============================] - 0s 6ms/step - loss: 0.0017 - val_loss: 0.0012\n",
      "Epoch 27/50\n",
      "64/64 [==============================] - 0s 6ms/step - loss: 0.0014 - val_loss: 0.0012\n",
      "Epoch 28/50\n",
      "64/64 [==============================] - 0s 7ms/step - loss: 0.0017 - val_loss: 9.8793e-04\n",
      "Epoch 29/50\n",
      "64/64 [==============================] - 0s 7ms/step - loss: 0.0015 - val_loss: 9.1812e-04\n",
      "Epoch 30/50\n",
      "64/64 [==============================] - 0s 6ms/step - loss: 0.0014 - val_loss: 8.2139e-04\n",
      "Epoch 31/50\n",
      "64/64 [==============================] - 0s 6ms/step - loss: 0.0016 - val_loss: 0.0016\n",
      "Epoch 32/50\n",
      "64/64 [==============================] - 0s 6ms/step - loss: 0.0016 - val_loss: 7.6428e-04\n",
      "Epoch 33/50\n",
      "64/64 [==============================] - 0s 6ms/step - loss: 0.0016 - val_loss: 0.0010\n",
      "Epoch 34/50\n",
      "64/64 [==============================] - 0s 7ms/step - loss: 0.0017 - val_loss: 0.0021\n",
      "Epoch 35/50\n",
      "64/64 [==============================] - 1s 10ms/step - loss: 0.0016 - val_loss: 9.8390e-04\n",
      "Epoch 36/50\n",
      "64/64 [==============================] - 1s 9ms/step - loss: 0.0012 - val_loss: 8.7145e-04\n",
      "Epoch 37/50\n",
      "64/64 [==============================] - 1s 8ms/step - loss: 0.0013 - val_loss: 9.4646e-04\n",
      "Epoch 38/50\n",
      "64/64 [==============================] - 0s 7ms/step - loss: 0.0014 - val_loss: 0.0015\n",
      "Epoch 39/50\n",
      "64/64 [==============================] - 0s 6ms/step - loss: 0.0014 - val_loss: 9.8185e-04\n",
      "Epoch 40/50\n",
      "64/64 [==============================] - 1s 8ms/step - loss: 0.0013 - val_loss: 7.4677e-04\n",
      "Epoch 41/50\n",
      "64/64 [==============================] - 0s 5ms/step - loss: 0.0013 - val_loss: 6.9966e-04\n",
      "Epoch 42/50\n",
      "64/64 [==============================] - 0s 6ms/step - loss: 0.0014 - val_loss: 0.0010\n",
      "Epoch 43/50\n",
      "64/64 [==============================] - 0s 6ms/step - loss: 0.0014 - val_loss: 7.8535e-04\n",
      "Epoch 44/50\n",
      "64/64 [==============================] - 0s 7ms/step - loss: 0.0014 - val_loss: 9.6156e-04\n",
      "Epoch 45/50\n",
      "64/64 [==============================] - 0s 6ms/step - loss: 0.0014 - val_loss: 0.0010\n",
      "Epoch 46/50\n",
      "64/64 [==============================] - 0s 7ms/step - loss: 0.0015 - val_loss: 0.0014\n",
      "Epoch 47/50\n",
      "64/64 [==============================] - 0s 7ms/step - loss: 0.0014 - val_loss: 9.2565e-04\n",
      "Epoch 48/50\n",
      "64/64 [==============================] - 1s 12ms/step - loss: 0.0013 - val_loss: 6.2159e-04\n",
      "Epoch 49/50\n",
      "64/64 [==============================] - 1s 13ms/step - loss: 0.0012 - val_loss: 7.5197e-04\n",
      "Epoch 50/50\n",
      "64/64 [==============================] - 1s 10ms/step - loss: 0.0014 - val_loss: 9.5452e-04\n"
     ]
    }
   ],
   "source": [
    "# 3. Huấn luyện mô hình\n",
    "history = model.fit(X_train, y_train, epochs=50, batch_size=32, validation_data=(X_test, y_test))"
   ]
  },
  {
   "cell_type": "code",
   "execution_count": 11,
   "id": "3f1d56a0",
   "metadata": {},
   "outputs": [],
   "source": [
    "# Hàm tính Nash-Sutcliffe Efficiency (NSE)\n",
    "def nse(y_true, y_pred):\n",
    "    return 1 - np.sum((y_true - y_pred) ** 2) / np.sum((y_true - np.mean(y_true)) ** 2)"
   ]
  },
  {
   "cell_type": "code",
   "execution_count": 12,
   "id": "4275ec02",
   "metadata": {},
   "outputs": [
    {
     "name": "stdout",
     "output_type": "stream",
     "text": [
      "16/16 [==============================] - 1s 3ms/step\n",
      "R² (R-squared): 0.9358996652366769\n",
      "MAE (Mean Absolute Error): 0.024784544969297422\n",
      "RMSE (Root Mean Square Error): 0.030895263396693105\n",
      "NSE (Nash-Sutcliffe Efficiency): 0.9358996652366769\n"
     ]
    }
   ],
   "source": [
    "y_pred = model.predict(X_test)\n",
    "# Chuyển đổi kích thước y_pred để phù hợp với y_test\n",
    "y_pred = y_pred.flatten()  # Chuyển y_pred thành một mảng 1 chiều\n",
    "\n",
    "y_test = y_test.flatten() # Biến đổi thành mảng 2 chiều\n",
    "\n",
    "r2 = r2_score(y_test, y_pred)\n",
    "print(\"R² (R-squared):\", r2)\n",
    "\n",
    "#Tính MAE\n",
    "mae = mean_absolute_error(y_test, y_pred)\n",
    "print(\"MAE (Mean Absolute Error):\", mae)\n",
    "\n",
    "# Tính RMSE\n",
    "rmse = np.sqrt(mean_squared_error(y_test, y_pred))\n",
    "print(\"RMSE (Root Mean Square Error):\", rmse)\n",
    "\n",
    "# Tính NSE\n",
    "nse_value = nse(y_test, y_pred)\n",
    "print(\"NSE (Nash-Sutcliffe Efficiency):\", nse_value)"
   ]
  },
  {
   "cell_type": "code",
   "execution_count": 13,
   "id": "2e6b8c4a",
   "metadata": {},
   "outputs": [
    {
     "name": "stdout",
     "output_type": "stream",
     "text": [
      "            mucNuocHN  nuocVeHoaBinh  chayMayHoaBinh  nuocVeTuyenQuang  \\\n",
      "Ngay                                                                     \n",
      "2015-01-01         85        575.000         757.694             120.0   \n",
      "2015-01-02        114        840.327        1045.743             116.0   \n",
      "2015-01-03        141       1059.445         976.320             115.0   \n",
      "2015-01-04        147        576.221         671.221             115.0   \n",
      "2015-01-05        135        875.634         946.884             116.0   \n",
      "...               ...            ...             ...               ...   \n",
      "2017-01-03        160        280.500         720.369              82.0   \n",
      "2017-01-04        120        270.500         600.369              79.0   \n",
      "2017-01-05        140        260.500         740.369              76.0   \n",
      "2017-01-06        200        230.500         701.369              90.0   \n",
      "2017-01-07        210        240.500         760.369              74.0   \n",
      "\n",
      "            chayMayTuyenQuan  nuocVeThacBa  chayMayThacBa  \n",
      "Ngay                                                       \n",
      "2015-01-01             136.0            93            0.0  \n",
      "2015-01-02             169.0            61           23.0  \n",
      "2015-01-03             164.0            43           33.0  \n",
      "2015-01-04             152.0            71           61.0  \n",
      "2015-01-05             138.0            33           23.0  \n",
      "...                      ...           ...            ...  \n",
      "2017-01-03              76.0           140           24.0  \n",
      "2017-01-04              80.0           170           28.0  \n",
      "2017-01-05              82.0           108           29.0  \n",
      "2017-01-06              84.0           150           27.0  \n",
      "2017-01-07              88.0           200           26.0  \n",
      "\n",
      "[738 rows x 7 columns]\n"
     ]
    }
   ],
   "source": [
    "# 5. Vẽ đồ thị dự báo so sánh với thực tế cho từng mực nước\n",
    "new_data = pd.read_csv(r'C:\\Users\\57\\Desktop\\DOANTOTNGHIEP\\Data\\KichBan1_2\\test_data2_1.csv') \n",
    "new_data['Ngay'] = pd.to_datetime(new_data['Ngay'], format='%d/%m/%Y')\n",
    "new_data.set_index('Ngay', inplace=True)\n",
    "print(new_data)"
   ]
  },
  {
   "cell_type": "code",
   "execution_count": 14,
   "id": "02f295f1",
   "metadata": {},
   "outputs": [],
   "source": [
    "# data_test_scaled = scaler.transform(new_data)\n",
    "# # Chia dữ liệu mới thành chuỗi thời gian\n",
    "# # Tạo các mẫu test từ dữ liệu test\n",
    "# # Chia dữ liệu mới thành chuỗi thời gian\n",
    "# X_new,Y_new = [],[]\n",
    "# for i in range(sequence_length, len(data_test_scaled)):\n",
    "#     X_new.append(data_test_scaled[i-sequence_length:i])\n",
    "#     Y_new.append(data_test_scaled[i])\n",
    "# X_new = np.array(X_new)\n",
    "# print(len(X_new))\n",
    "# y_new = np.array(Y_new)"
   ]
  },
  {
   "cell_type": "code",
   "execution_count": 15,
   "id": "77806400",
   "metadata": {},
   "outputs": [],
   "source": [
    "# predictions = model.predict(X_new)\n",
    "# predictions_new_original = scaler.inverse_transform(predictions)[:,0]\n",
    "# y_test_new_original = scaler.inverse_transform(y_new)[:,0]\n",
    "# predictions_new_original = np.round(predictions_new_original, 3)"
   ]
  },
  {
   "cell_type": "code",
   "execution_count": 16,
   "id": "57527edb",
   "metadata": {},
   "outputs": [],
   "source": [
    "data_test_scaled = scaler.transform(new_data)\n",
    "\n",
    "# Tạo các mẫu test từ dữ liệu test\n",
    "X_test_new, y_test_new = create_sequences(data_test_scaled,sequence_length)\n",
    "\n",
    "# Định dạng lại dữ liệu test để phù hợp với mô hình\n",
    "X_test_new = np.reshape(X_test_new, (X_test_new.shape[0], X_test_new.shape[1], X_test_new.shape[2]))"
   ]
  },
  {
   "cell_type": "code",
   "execution_count": 17,
   "id": "067456cb",
   "metadata": {},
   "outputs": [
    {
     "name": "stdout",
     "output_type": "stream",
     "text": [
      "23/23 [==============================] - 0s 2ms/step\n"
     ]
    }
   ],
   "source": [
    "predictions_new = model.predict(X_test_new)\n",
    "\n",
    "# Đưa dự đoán về dạng 2D\n",
    "predictions_new_reshaped = predictions_new.reshape(-1, predictions_new.shape[-1])  # Chuyển thành 2D\n",
    "\n",
    "# Số cột từ scaler\n",
    "num_columns = data_scaled.shape[1]\n",
    "\n",
    "# Tạo mảng đủ cột để kết hợp\n",
    "zeros_to_add = np.zeros((predictions_new_reshaped.shape[0], num_columns - predictions_new_reshaped.shape[1]))\n",
    "\n",
    "# Chuyển đổi giá trị dự đoán về kích thước ban đầu\n",
    "predictions_new_original = scaler.inverse_transform(\n",
    "    np.concatenate((predictions_new_reshaped, zeros_to_add), axis=1)\n",
    ")[:, 0]  # Lấy cột đầu tiên cho mực nước\n",
    "\n",
    "\n",
    "# Giả sử y_test_new có kích thước (num_samples, 1)\n",
    "y_test_new_original = y_test_new.reshape(-1, 1)  # Chuyển thành 2D nếu cần\n",
    "\n",
    "# Tạo mảng đủ cột để kết hợp cho y_test_new\n",
    "zeros_to_add_y_test = np.zeros((y_test_new_original.shape[0], num_columns - 1))  # Số cột - 1 vì y_test_new chỉ có 1 cột\n",
    "\n",
    "# Chuyển đổi giá trị thực tế về kích thước ban đầu\n",
    "y_test_new_original = scaler.inverse_transform(\n",
    "    np.concatenate((y_test_new_original, zeros_to_add_y_test), axis=1)\n",
    ")[:, 0] "
   ]
  },
  {
   "cell_type": "code",
   "execution_count": 18,
   "id": "f539ee1b",
   "metadata": {},
   "outputs": [
    {
     "name": "stdout",
     "output_type": "stream",
     "text": [
      "           mucNuocHaNoi            \n",
      "                 ThucTe       DuBao\n",
      "Ngay                               \n",
      "2015-01-03        141.0  121.808797\n",
      "2015-01-04        147.0  138.639934\n",
      "2015-01-05        135.0  143.259261\n",
      "2015-01-06        127.0  144.889531\n",
      "2015-01-07        126.0  135.527236\n",
      "...                 ...         ...\n",
      "2017-01-03        160.0  143.816731\n",
      "2017-01-04        120.0  154.257914\n",
      "2017-01-05        140.0  145.696372\n",
      "2017-01-06        200.0  137.285332\n",
      "2017-01-07        210.0  161.995093\n",
      "\n",
      "[736 rows x 2 columns]\n"
     ]
    }
   ],
   "source": [
    "# Tạo mảng ngày bắt đầu từ chỉ số sequence_length của new_data\n",
    "dates = new_data.index[sequence_length:]\n",
    "\n",
    "# Đảm bảo số lượng phần tử của dự báo và thực tế khớp với số lượng ngày\n",
    "min_length = min(len(dates), len(predictions_new_original), len(y_test_new_original))\n",
    "\n",
    "# Cắt ngắn các mảng để khớp số phần tử nếu cần\n",
    "dates = dates[:min_length]\n",
    "predictions_new_original = predictions_new_original[:min_length]\n",
    "y_test_new_original = y_test_new_original[:min_length]\n",
    "# Tạo DataFrame với ngày, thực tế và dự báo\n",
    "df_mucNuocHN = pd.DataFrame({\n",
    "    'Ngay': dates,\n",
    "    'ThucTe': y_test_new_original,\n",
    "    'DuBao': predictions_new_original\n",
    "})\n",
    "# Đặt cột 'Ngay' làm chỉ mục\n",
    "df_mucNuocHN.set_index('Ngay', inplace=True)\n",
    "\n",
    "# Đặt tên đa cấp cho các cột với nhóm 'mucNuocHaNoi'\n",
    "df_mucNuocHN.columns = pd.MultiIndex.from_product([['mucNuocHaNoi'], ['ThucTe', 'DuBao']])\n",
    "\n",
    "# Hiển thị DataFrame\n",
    "print(df_mucNuocHN)\n"
   ]
  },
  {
   "cell_type": "code",
   "execution_count": 19,
   "id": "d86ed675",
   "metadata": {},
   "outputs": [
    {
     "name": "stdout",
     "output_type": "stream",
     "text": [
      "736\n",
      "DatetimeIndex(['2015-01-01', '2015-01-02', '2015-01-03', '2015-01-04',\n",
      "               '2015-01-05', '2015-01-06', '2015-01-07', '2015-01-08',\n",
      "               '2015-01-09', '2015-01-10',\n",
      "               ...\n",
      "               '2016-12-27', '2016-12-28', '2016-12-29', '2016-12-30',\n",
      "               '2016-12-31', '2017-01-01', '2017-01-02', '2017-01-03',\n",
      "               '2017-01-04', '2017-01-05'],\n",
      "              dtype='datetime64[ns]', name='Ngay', length=736, freq=None)\n"
     ]
    },
    {
     "data": {
      "image/png": "[encoded data removed]",
      "text/plain": [
       "<Figure size 1400x500 with 1 Axes>"
      ]
     },
     "metadata": {},
     "output_type": "display_data"
    }
   ],
   "source": [
    "import matplotlib.dates as mdates\n",
    "\n",
    "min_length = min(len(new_data.index), len(y_test_new_original), len(predictions_new_original))\n",
    "print(min_length)\n",
    "# Cắt ngắn mảng theo độ dài nhỏ nhất\n",
    "dates = new_data.index[:min_length]\n",
    "\n",
    "y_test_new_original = y_test_new_original[:min_length]\n",
    "print(dates)\n",
    "predictions_new_original = predictions_new_original[:min_length]\n",
    "\n",
    "# Vẽ biểu đồ\n",
    "plt.figure(figsize=(14, 5))\n",
    "plt.plot(dates, y_test_new_original, label='Thực tế', color='blue')\n",
    "plt.plot(dates, predictions_new_original, label='Dự báo', color='red')\n",
    "plt.xlabel('Thời gian')\n",
    "plt.ylabel('Mực nước')\n",
    "\n",
    "# Định dạng ngày tháng\n",
    "plt.gca().xaxis.set_major_formatter(mdates.DateFormatter('%d/%m/%Y'))\n",
    "plt.gca().xaxis.set_major_locator(mdates.AutoDateLocator())\n",
    "plt.legend()\n",
    "plt.gcf().autofmt_xdate()\n",
    "plt.show()"
   ]
  }
 ],
 "metadata": {
  "kernelspec": {
   "display_name": "Python 3",
   "language": "python",
   "name": "python3"
  },
  "language_info": {
   "codemirror_mode": {
    "name": "ipython",
    "version": 3
   },
   "file_extension": ".py",
   "mimetype": "text/x-python",
   "name": "python",
   "nbconvert_exporter": "python",
   "pygments_lexer": "ipython3",
   "version": "3.9.13"
  }
 },
 "nbformat": 4,
 "nbformat_minor": 5
}
