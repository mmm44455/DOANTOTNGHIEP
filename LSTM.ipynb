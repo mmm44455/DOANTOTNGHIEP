{
 "cells": [
  {
   "cell_type": "code",
   "execution_count": 66,
   "id": "22f0cd58-c850-4c14-9a36-d0a4246de71d",
   "metadata": {},
   "outputs": [],
   "source": [
    "import pandas as pd\n",
    "import numpy as np\n",
    "import tensorflow as tf\n",
    "from tensorflow.keras.models import Sequential\n",
    "from tensorflow.keras.layers import LSTM, Dense\n",
    "import tensorflow_addons as tfa  # thư viện cho Attention\n",
    "from sklearn.preprocessing import MinMaxScaler\n",
    "import matplotlib.pyplot as plt\n",
    "from keras.layers import LSTM, Dense, Input, Attention,concatenate\n",
    "from keras.models import Model\n",
    "from keras.optimizers import Adam\n",
    "from sklearn.model_selection import train_test_split\n",
    "from sklearn.metrics import r2_score, mean_absolute_error, mean_squared_error"
   ]
  },
  {
   "cell_type": "code",
   "execution_count": 67,
   "id": "98ff285f-92dc-4284-ad30-72c2d52f392f",
   "metadata": {},
   "outputs": [
    {
     "name": "stdout",
     "output_type": "stream",
     "text": [
      "            mucNuocHN  nuocVeHoaBinh  chayMayHoaBinh  nuocVeTuyenQuang  \\\n",
      "Ngay                                                                     \n",
      "01/01/2008        120        498.815         259.499               0.0   \n",
      "02/01/2008        117        470.866         518.755               0.0   \n",
      "03/01/2008        139        423.816         615.242               0.0   \n",
      "04/01/2008        166        496.882         902.982               0.0   \n",
      "05/01/2008        179        501.232        1072.970               0.0   \n",
      "\n",
      "            chayMayTuyenQuan  nuocVeThacBa  chayMayThacBa  \n",
      "Ngay                                                       \n",
      "01/01/2008               0.0        23.230         90.200  \n",
      "02/01/2008               0.0        26.239        213.791  \n",
      "03/01/2008               0.0        24.000        175.000  \n",
      "04/01/2008               0.0        11.000        164.000  \n",
      "05/01/2008               0.0        24.000        177.000  \n"
     ]
    }
   ],
   "source": [
    "\n",
    "data = pd.read_csv(r'C:\\Users\\57\\Desktop\\DOANTOTNGHIEP\\Data\\KichBan1_2\\train_data2.csv') \n",
    "data.set_index('Ngay', inplace=True)\n",
    "print(data.head(5))"
   ]
  },
  {
   "cell_type": "code",
   "execution_count": 68,
   "id": "bb0fa752-9eb4-488d-8036-e61e01979419",
   "metadata": {},
   "outputs": [],
   "source": [
    "# Chuẩn hóa dữ liệu để đưa về khoảng [0, 1] để dễ xử lý khi đưa vào mô hình\n",
    "scaler = MinMaxScaler(feature_range=(0, 1))\n",
    "data_scaled = scaler.fit_transform(data)"
   ]
  },
  {
   "cell_type": "code",
   "execution_count": 69,
   "id": "6b3ddf79-10b6-45ba-8d2c-03e87a5f121b",
   "metadata": {},
   "outputs": [],
   "source": [
    "def create_sequences(data, seq_length):\n",
    "    sequences = []\n",
    "    targets = []\n",
    "    for i in range(len(data) - seq_length):\n",
    "        sequences.append(data[i:i + seq_length])\n",
    "        targets.append(data[i + seq_length, 0])  \n",
    "    return np.array(sequences), np.array(targets)"
   ]
  },
  {
   "cell_type": "code",
   "execution_count": 70,
   "id": "96df9d36-7c09-4a89-87aa-5e546d3f66d2",
   "metadata": {},
   "outputs": [
    {
     "name": "stdout",
     "output_type": "stream",
     "text": [
      "[[[120.    498.815 259.499 ...   0.     23.23   90.2  ]\n",
      "  [117.    470.866 518.755 ...   0.     26.239 213.791]]\n",
      "\n",
      " [[117.    470.866 518.755 ...   0.     26.239 213.791]\n",
      "  [139.    423.816 615.242 ...   0.     24.    175.   ]]\n",
      "\n",
      " [[139.    423.816 615.242 ...   0.     24.    175.   ]\n",
      "  [166.    496.882 902.982 ...   0.     11.    164.   ]]\n",
      "\n",
      " ...\n",
      "\n",
      " [[111.    482.    355.    ... 118.251  95.65   85.65 ]\n",
      "  [108.    442.    386.    ...  58.377 119.589   0.   ]]\n",
      "\n",
      " [[108.    442.    386.    ...  58.377 119.589   0.   ]\n",
      "  [ 84.    268.    474.    ...  94.274  95.65   85.65 ]]\n",
      "\n",
      " [[ 84.    268.    474.    ...  94.274  95.65   85.65 ]\n",
      "  [ 80.    543.    345.    ... 115.226 113.294  75.867]]]\n"
     ]
    }
   ],
   "source": [
    "sequence_length = 2 # Sử dụng 30 ngày để dự đoán\n",
    "X, y = create_sequences(data_scaled, sequence_length)\n",
    "X_train_decoded = []\n",
    "\n",
    "# Loop through each sequence in X_train\n",
    "for i in range(X.shape[0]):\n",
    "    # Reshape each sequence to 2D, apply inverse transform, and add to the decoded list\n",
    "    original_values = scaler.inverse_transform(X[i])\n",
    "    X_train_decoded.append(original_values)\n",
    "X_train_decoded = np.array(X_train_decoded)\n",
    "print(X_train_decoded)"
   ]
  },
  {
   "cell_type": "code",
   "execution_count": 71,
   "id": "51b8b440",
   "metadata": {},
   "outputs": [],
   "source": [
    "train_size = int(len(X) * 0.8)\n",
    "X_train, X_test = X[:train_size], X[train_size:]\n",
    "y_train, y_test = y[:train_size], y[train_size:]\n",
    "X_train = np.reshape(X_train, (X_train.shape[0], X_train.shape[1], X_train.shape[2]))\n",
    "X_test = np.reshape(X_test, (X_test.shape[0], X_test.shape[1], X_test.shape[2]))"
   ]
  },
  {
   "cell_type": "code",
   "execution_count": 72,
   "id": "8b9aa117",
   "metadata": {},
   "outputs": [],
   "source": [
    "input_layer = Input(shape=(X.shape[1], X.shape[2]))\n",
    "lstm_out = LSTM(64, return_sequences=True)(input_layer)"
   ]
  },
  {
   "cell_type": "code",
   "execution_count": 73,
   "id": "3a61dd8a",
   "metadata": {},
   "outputs": [],
   "source": [
    "output_layer = Dense(1)(lstm_out)"
   ]
  },
  {
   "cell_type": "code",
   "execution_count": 74,
   "id": "02f1d57a",
   "metadata": {},
   "outputs": [
    {
     "name": "stdout",
     "output_type": "stream",
     "text": [
      "Model: \"model_3\"\n",
      "_________________________________________________________________\n",
      " Layer (type)                Output Shape              Param #   \n",
      "=================================================================\n",
      " input_4 (InputLayer)        [(None, 2, 7)]            0         \n",
      "                                                                 \n",
      " lstm_3 (LSTM)               (None, 2, 64)             18432     \n",
      "                                                                 \n",
      " dense_3 (Dense)             (None, 2, 1)              65        \n",
      "                                                                 \n",
      "=================================================================\n",
      "Total params: 18497 (72.25 KB)\n",
      "Trainable params: 18497 (72.25 KB)\n",
      "Non-trainable params: 0 (0.00 Byte)\n",
      "_________________________________________________________________\n"
     ]
    }
   ],
   "source": [
    "model = Model(inputs=input_layer, outputs=output_layer)\n",
    "model.compile(optimizer=Adam(learning_rate=0.001), loss='mse')\n",
    "model.summary()"
   ]
  },
  {
   "cell_type": "code",
   "execution_count": 75,
   "id": "3aec9480",
   "metadata": {},
   "outputs": [
    {
     "name": "stdout",
     "output_type": "stream",
     "text": [
      "Epoch 1/50\n",
      "64/64 [==============================] - 6s 19ms/step - loss: 0.0401 - val_loss: 0.0116\n",
      "Epoch 2/50\n",
      "64/64 [==============================] - 0s 7ms/step - loss: 0.0299 - val_loss: 0.0140\n",
      "Epoch 3/50\n",
      "64/64 [==============================] - 1s 11ms/step - loss: 0.0290 - val_loss: 0.0146\n",
      "Epoch 4/50\n",
      "64/64 [==============================] - 1s 12ms/step - loss: 0.0290 - val_loss: 0.0149\n",
      "Epoch 5/50\n",
      "64/64 [==============================] - 1s 8ms/step - loss: 0.0288 - val_loss: 0.0144\n",
      "Epoch 6/50\n",
      "64/64 [==============================] - 1s 12ms/step - loss: 0.0288 - val_loss: 0.0148\n",
      "Epoch 7/50\n",
      "64/64 [==============================] - 1s 13ms/step - loss: 0.0287 - val_loss: 0.0151\n",
      "Epoch 8/50\n",
      "64/64 [==============================] - 1s 8ms/step - loss: 0.0287 - val_loss: 0.0149\n",
      "Epoch 9/50\n",
      "64/64 [==============================] - 1s 12ms/step - loss: 0.0288 - val_loss: 0.0151\n",
      "Epoch 10/50\n",
      "64/64 [==============================] - 1s 11ms/step - loss: 0.0287 - val_loss: 0.0150\n",
      "Epoch 11/50\n",
      "64/64 [==============================] - 0s 8ms/step - loss: 0.0291 - val_loss: 0.0149\n",
      "Epoch 12/50\n",
      "64/64 [==============================] - 1s 12ms/step - loss: 0.0287 - val_loss: 0.0149\n",
      "Epoch 13/50\n",
      "64/64 [==============================] - 1s 12ms/step - loss: 0.0288 - val_loss: 0.0157\n",
      "Epoch 14/50\n",
      "64/64 [==============================] - 0s 8ms/step - loss: 0.0287 - val_loss: 0.0156\n",
      "Epoch 15/50\n",
      "64/64 [==============================] - 1s 11ms/step - loss: 0.0287 - val_loss: 0.0157\n",
      "Epoch 16/50\n",
      "64/64 [==============================] - 1s 13ms/step - loss: 0.0288 - val_loss: 0.0160\n",
      "Epoch 17/50\n",
      "64/64 [==============================] - 0s 8ms/step - loss: 0.0288 - val_loss: 0.0162\n",
      "Epoch 18/50\n",
      "64/64 [==============================] - 1s 11ms/step - loss: 0.0288 - val_loss: 0.0146\n",
      "Epoch 19/50\n",
      "64/64 [==============================] - 1s 10ms/step - loss: 0.0287 - val_loss: 0.0152\n",
      "Epoch 20/50\n",
      "64/64 [==============================] - 1s 8ms/step - loss: 0.0288 - val_loss: 0.0154\n",
      "Epoch 21/50\n",
      "64/64 [==============================] - 1s 10ms/step - loss: 0.0287 - val_loss: 0.0149\n",
      "Epoch 22/50\n",
      "64/64 [==============================] - 1s 11ms/step - loss: 0.0287 - val_loss: 0.0156\n",
      "Epoch 23/50\n",
      "64/64 [==============================] - 0s 7ms/step - loss: 0.0286 - val_loss: 0.0150\n",
      "Epoch 24/50\n",
      "64/64 [==============================] - 1s 11ms/step - loss: 0.0288 - val_loss: 0.0152\n",
      "Epoch 25/50\n",
      "64/64 [==============================] - 1s 11ms/step - loss: 0.0288 - val_loss: 0.0150\n",
      "Epoch 26/50\n",
      "64/64 [==============================] - 0s 8ms/step - loss: 0.0288 - val_loss: 0.0148\n",
      "Epoch 27/50\n",
      "64/64 [==============================] - 1s 11ms/step - loss: 0.0287 - val_loss: 0.0158\n",
      "Epoch 28/50\n",
      "64/64 [==============================] - 1s 11ms/step - loss: 0.0288 - val_loss: 0.0150\n",
      "Epoch 29/50\n",
      "64/64 [==============================] - 1s 9ms/step - loss: 0.0289 - val_loss: 0.0148\n",
      "Epoch 30/50\n",
      "64/64 [==============================] - 1s 10ms/step - loss: 0.0288 - val_loss: 0.0152\n",
      "Epoch 31/50\n",
      "64/64 [==============================] - 1s 11ms/step - loss: 0.0287 - val_loss: 0.0153\n",
      "Epoch 32/50\n",
      "64/64 [==============================] - 1s 8ms/step - loss: 0.0287 - val_loss: 0.0173\n",
      "Epoch 33/50\n",
      "64/64 [==============================] - 1s 11ms/step - loss: 0.0288 - val_loss: 0.0153\n",
      "Epoch 34/50\n",
      "64/64 [==============================] - 1s 12ms/step - loss: 0.0288 - val_loss: 0.0150\n",
      "Epoch 35/50\n",
      "64/64 [==============================] - 1s 8ms/step - loss: 0.0288 - val_loss: 0.0149\n",
      "Epoch 36/50\n",
      "64/64 [==============================] - 1s 12ms/step - loss: 0.0287 - val_loss: 0.0160\n",
      "Epoch 37/50\n",
      "64/64 [==============================] - 1s 13ms/step - loss: 0.0287 - val_loss: 0.0149\n",
      "Epoch 38/50\n",
      "64/64 [==============================] - 1s 10ms/step - loss: 0.0288 - val_loss: 0.0154\n",
      "Epoch 39/50\n",
      "64/64 [==============================] - 1s 10ms/step - loss: 0.0287 - val_loss: 0.0155\n",
      "Epoch 40/50\n",
      "64/64 [==============================] - 1s 12ms/step - loss: 0.0288 - val_loss: 0.0149\n",
      "Epoch 41/50\n",
      "64/64 [==============================] - 1s 11ms/step - loss: 0.0287 - val_loss: 0.0155\n",
      "Epoch 42/50\n",
      "64/64 [==============================] - 1s 11ms/step - loss: 0.0287 - val_loss: 0.0159\n",
      "Epoch 43/50\n",
      "64/64 [==============================] - 0s 8ms/step - loss: 0.0288 - val_loss: 0.0149\n",
      "Epoch 44/50\n",
      "64/64 [==============================] - 1s 11ms/step - loss: 0.0288 - val_loss: 0.0157\n",
      "Epoch 45/50\n",
      "64/64 [==============================] - 1s 13ms/step - loss: 0.0287 - val_loss: 0.0163\n",
      "Epoch 46/50\n",
      "64/64 [==============================] - 1s 9ms/step - loss: 0.0288 - val_loss: 0.0153\n",
      "Epoch 47/50\n",
      "64/64 [==============================] - 1s 10ms/step - loss: 0.0286 - val_loss: 0.0179\n",
      "Epoch 48/50\n",
      "64/64 [==============================] - 1s 11ms/step - loss: 0.0288 - val_loss: 0.0150\n",
      "Epoch 49/50\n",
      "64/64 [==============================] - 0s 8ms/step - loss: 0.0288 - val_loss: 0.0151\n",
      "Epoch 50/50\n",
      "64/64 [==============================] - 1s 9ms/step - loss: 0.0288 - val_loss: 0.0162\n"
     ]
    }
   ],
   "source": [
    "# 3. Huấn luyện mô hình\n",
    "history = model.fit(X_train, y_train, epochs=50, batch_size=32, validation_data=(X_test, y_test))"
   ]
  },
  {
   "cell_type": "code",
   "execution_count": 76,
   "id": "3f1d56a0",
   "metadata": {},
   "outputs": [],
   "source": [
    "def nse(y_true, y_pred):\n",
    "    \"\"\"Tính toán NSE (Nash-Sutcliffe Efficiency)\"\"\"\n",
    "    # Đảm bảo y_true và y_pred là mảng numpy\n",
    "    y_true = np.array(y_true)\n",
    "    y_pred = np.array(y_pred)\n",
    "    \n",
    "    # Tính toán giá trị NSE\n",
    "    return 1 - np.sum((y_true - y_pred) ** 2) / np.sum((y_true - np.mean(y_true)) ** 2)"
   ]
  },
  {
   "cell_type": "code",
   "execution_count": 77,
   "id": "4275ec02",
   "metadata": {},
   "outputs": [
    {
     "name": "stdout",
     "output_type": "stream",
     "text": [
      "16/16 [==============================] - 1s 5ms/step\n",
      "R² (R-squared): -0.05784961703448688\n",
      "MAE (Mean Absolute Error): 0.10608723890375991\n",
      "RMSE (Root Mean Square Error): 0.12550866782348685\n",
      "NSE (Nash-Sutcliffe Efficiency): -0.05784961703448688\n"
     ]
    }
   ],
   "source": [
    "y_pred = model.predict(X_test)\n",
    "# Chuyển đổi kích thước y_pred để phù hợp với y_test\n",
    "y_pred = y_pred.reshape(y_pred.shape[0], -1)  # Biến đổi thành mảng 2 chiều\n",
    "y_pred = y_pred[:, 0]  # Lấy cột đầu tiên nếu y_pred có nhiều cột\n",
    "\n",
    "y_test = y_test.flatten()  \n",
    "r2 = r2_score(y_test, y_pred)\n",
    "print(\"R² (R-squared):\", r2)\n",
    "\n",
    "#Tính MAE\n",
    "mae = mean_absolute_error(y_test, y_pred)\n",
    "print(\"MAE (Mean Absolute Error):\", mae)\n",
    "\n",
    "# Tính RMSE\n",
    "rmse = np.sqrt(mean_squared_error(y_test, y_pred))\n",
    "print(\"RMSE (Root Mean Square Error):\", rmse)\n",
    "\n",
    "# Tính NSE\n",
    "nse = nse(y_test, y_pred)\n",
    "print(\"NSE (Nash-Sutcliffe Efficiency):\", nse)"
   ]
  },
  {
   "cell_type": "code",
   "execution_count": 78,
   "id": "2e6b8c4a",
   "metadata": {},
   "outputs": [],
   "source": [
    "# 5. Vẽ đồ thị dự báo so sánh với thực tế cho từng mực nước\n",
    "new_data = pd.read_csv(r'C:\\Users\\57\\Desktop\\DOANTOTNGHIEP\\Data\\KichBan1_2\\test_data2_1.csv') \n",
    "new_data['Ngay'] = pd.to_datetime(new_data['Ngay'], format='%d/%m/%Y')\n",
    "new_data.set_index('Ngay', inplace=True)\n",
    "scaler = MinMaxScaler(feature_range=(0, 1))\n",
    "data_scaled = scaler.fit_transform(new_data)"
   ]
  },
  {
   "cell_type": "code",
   "execution_count": 79,
   "id": "02f295f1",
   "metadata": {},
   "outputs": [],
   "source": [
    "data_test_scaled = scaler.transform(new_data)\n",
    "\n",
    "# Tạo các mẫu test từ dữ liệu test\n",
    "X_test_new, y_test_new = create_sequences(data_test_scaled,sequence_length)\n",
    "\n",
    "# Định dạng lại dữ liệu test để phù hợp với mô hình\n",
    "X_test_new = np.reshape(X_test_new, (X_test_new.shape[0], X_test_new.shape[1], X_test_new.shape[2]))"
   ]
  },
  {
   "cell_type": "code",
   "execution_count": 80,
   "id": "68900aba-0938-4d6b-9dda-c9a870e0581d",
   "metadata": {},
   "outputs": [
    {
     "name": "stdout",
     "output_type": "stream",
     "text": [
      "23/23 [==============================] - 0s 6ms/step\n"
     ]
    }
   ],
   "source": [
    "# Dự đoán trên dữ liệu đầu vào\n",
    "predictions_new = model.predict(X_test_new)\n",
    "\n",
    "# Đưa dự đoán về dạng 2D\n",
    "predictions_new_reshaped = predictions_new.reshape(-1, predictions_new.shape[-1])  # Chuyển thành 2D\n",
    "\n",
    "# Số cột từ scaler\n",
    "num_columns = data_scaled.shape[1]\n",
    "\n",
    "# Tạo mảng đủ cột để kết hợp\n",
    "zeros_to_add = np.zeros((predictions_new_reshaped.shape[0], num_columns - predictions_new_reshaped.shape[1]))\n",
    "\n",
    "# Chuyển đổi giá trị dự đoán về kích thước ban đầu\n",
    "predictions_new_original = scaler.inverse_transform(\n",
    "    np.concatenate((predictions_new_reshaped, zeros_to_add), axis=1)\n",
    ")[:, 0]  # Lấy cột đầu tiên cho mực nước\n",
    "\n",
    "\n",
    "# Giả sử y_test_new có kích thước (num_samples, 1)\n",
    "y_test_new_original = y_test_new.reshape(-1, 1)  # Chuyển thành 2D nếu cần\n",
    "\n",
    "# Tạo mảng đủ cột để kết hợp cho y_test_new\n",
    "zeros_to_add_y_test = np.zeros((y_test_new_original.shape[0], num_columns - 1))  # Số cột - 1 vì y_test_new chỉ có 1 cột\n",
    "\n",
    "# Chuyển đổi giá trị thực tế về kích thước ban đầu\n",
    "y_test_new_original = scaler.inverse_transform(\n",
    "    np.concatenate((y_test_new_original, zeros_to_add_y_test), axis=1)\n",
    ")[:, 0] \n"
   ]
  },
  {
   "cell_type": "code",
   "execution_count": 81,
   "id": "149c181f",
   "metadata": {},
   "outputs": [
    {
     "data": {
      "image/png": "[encoded data removed]",
      "text/plain": [
       "<Figure size 1400x500 with 1 Axes>"
      ]
     },
     "metadata": {},
     "output_type": "display_data"
    }
   ],
   "source": [
    "# Đảm bảo các mảng có cùng kích thước\n",
    "import matplotlib.dates as mdates\n",
    "\n",
    "min_length = min(len(new_data.index), len(y_test_new_original), len(predictions_new_original))\n",
    "\n",
    "# Cắt ngắn mảng theo độ dài nhỏ nhất\n",
    "dates = new_data.index[:min_length]\n",
    "y_test_new_original = y_test_new_original[:min_length]\n",
    "predictions_new_original = predictions_new_original[:min_length]\n",
    "\n",
    "# Vẽ biểu đồ\n",
    "plt.figure(figsize=(14, 5))\n",
    "plt.plot(dates, y_test_new_original, label='Thực tế', color='blue')\n",
    "plt.plot(dates, predictions_new_original, label='Dự báo', color='red')\n",
    "plt.xlabel('Thời gian')\n",
    "plt.ylabel('Mực nước')\n",
    "\n",
    "# Định dạng ngày tháng\n",
    "plt.gca().xaxis.set_major_formatter(mdates.DateFormatter('%d/%m/%Y'))\n",
    "plt.gca().xaxis.set_major_locator(mdates.AutoDateLocator())\n",
    "plt.legend()\n",
    "plt.gcf().autofmt_xdate()\n",
    "plt.show()\n"
   ]
  },
  {
   "cell_type": "code",
   "execution_count": null,
   "id": "9ce6919c",
   "metadata": {},
   "outputs": [],
   "source": []
  }
 ],
 "metadata": {
  "kernelspec": {
   "display_name": "Python 3",
   "language": "python",
   "name": "python3"
  },
  "language_info": {
   "codemirror_mode": {
    "name": "ipython",
    "version": 3
   },
   "file_extension": ".py",
   "mimetype": "text/x-python",
   "name": "python",
   "nbconvert_exporter": "python",
   "pygments_lexer": "ipython3",
   "version": "3.9.13"
  }
 },
 "nbformat": 4,
 "nbformat_minor": 5
}
